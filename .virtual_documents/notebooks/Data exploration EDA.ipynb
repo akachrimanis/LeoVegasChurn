





import os
import sys
import pandas as pd
import itables 
import itables.options as opt
from ydata_profiling import ProfileReport

opt.columnDefs = [{"className": "dt-center", "targets": "_all"}]  # Center-align all columns
opt.maxBytes = 0  # Display full content, no truncation
# Configure itables to display DataFrames automatically
itables.init_notebook_mode(all_interactive=True)
sys.path = list(dict.fromkeys(sys.path))

print("sys.executable: ",sys.executable)
print("sys.path: ", sys.path)

print("Before CWD: ", os.getcwd())
os.chdir("/Users/tkax/dev/aimonetize/WIP/BetssonAssessment/")
print("Current CWD: ", os.getcwd())

# Your desired path
PROJET_DIR = '/Users/tkax/dev/aimonetize/WIP/BetssonAssessment/'

# Check if the path is already in sys.path and add it if it's not
if PROJET_DIR not in sys.path:
    sys.path.append(PROJET_DIR)


from src.ETL.read_csv_files import load_csv
from src.config.load_config import read_config

config = read_config(f'{PROJET_DIR}config/config.yaml')
print(config)





# Example usage:
act_logs_file_path = config["DATA_FILES"]["ACTIVITY_LOGS"]
user_profile_file_path = config["DATA_FILES"]["USER_PROFILES"]
games_meta_file_path = config["DATA_FILES"]["GAMES_METADATA"]

activity_logs = load_csv(act_logs_file_path)  # This will load all columns
user_profiles = load_csv(user_profile_file_path)
games_metadata = load_csv(games_meta_file_path)
df = df_al








def df_basics(df):
    print(df.columns)
    print(df.dtypes)

df_basics(activity_logs)




itables.show(activity_logs)



# Generate EDA Report
profile_al = ProfileReport(activity_logs, title='Game Betting Data EDA', explorative=True)

# Display the report in Jupyter
profile_al.to_notebook_iframe()





print(user_profiles.columns)



# Generate EDA Report
profile_up = ProfileReport(user_profiles, title='Game Betting Data EDA', explorative=True)

# Display the report in Jupyter
profile_up.to_notebook_iframe()





print(games_metadata.columns)


# Generate EDA Report
profile_gm = ProfileReport(games_metadata, title='Game Betting Data EDA', explorative=True)

# Display the report in Jupyter
profile_gm.to_notebook_iframe()








import pandas as pd

def convert_int_to_float(df):
    """
    Convert all columns of type int to float in a pandas DataFrame.

    Args:
        df (pd.DataFrame): The DataFrame whose integer columns will be converted to float.

    Returns:
        pd.DataFrame: A DataFrame with integer columns converted to float.
    """
    # Identify columns with integer types
    int_columns = df.select_dtypes(include=['int', 'int32', 'int64']).columns
    
    # Convert these columns to float
    df[int_columns] = df[int_columns].astype('float')
    
    print(df.dtypes)

    return df

def fix_date_columns(df, date_cols=None):
    """
    Converts columns that are strings representing dates to datetime objects.

    Args:
        df (pd.DataFrame): The DataFrame containing the data.
        date_cols (list or str, optional): A single column name or a list of column names to convert.
                                           If None, it attempts to auto-detect date columns.

    Returns:
        pd.DataFrame: The DataFrame with date columns converted to datetime.
    """
    # Ensure date_cols is a list even if a single string is passed
    if isinstance(date_cols, str):
        date_cols = [date_cols]
    
    # Auto-detect columns that may represent dates if date_cols is not specified
    if date_cols is None:
        date_cols = [col for col in df.columns if 'date' in col.lower() or 'time' in col.lower()]
    
    for col in date_cols:
        try:
            # Convert the column to datetime, setting errors='coerce' to handle invalid formats
            df[col] = pd.to_datetime(df[col], errors='coerce')
        except Exception as e:
            print(f"Could not convert column {col} to datetime: {e}")
    
    return df


def basic_data_prep(df, date_col="Timestamp"):
    df = fix_date_columns(df, date_cols=None)
    df = convert_int_to_float(df)
    return df

    

def one_hot_encode_columns(df, columns_to_encode):
    """
    One-hot encodes specified columns in a DataFrame using scikit-learn's OneHotEncoder.
    
    Args:
    df (pandas.DataFrame): The DataFrame containing the data.
    columns_to_encode (list): A list of column names to be one-hot encoded.
    
    Returns:
    pandas.DataFrame: A DataFrame with the original columns replaced by their one-hot encoded versions.
    """
    # Initialize the OneHotEncoder
    encoder = OneHotEncoder(handle_unknown='ignore')  # Automatically returns a sparse matrix
    
    # Fit and transform the specified columns, converting the output to a dense format
    encoded_data = encoder.fit_transform(df[columns_to_encode]).toarray()
    
    # Create a DataFrame with the encoded data
    encoded_df = pd.DataFrame(encoded_data, columns=encoder.get_feature_names_out(columns_to_encode))
    
    # Ensure the index aligns with the original DataFrame
    encoded_df.index = df.index
    
    # Drop original columns from the DataFrame and join the encoded DataFrame
    df = df.drop(columns_to_encode, axis=1).join(encoded_df)
    
    return df






games_metadata_encoded = pd.concat([games_metadata.drop('Genre', axis=1), genres_encoded_df], axis=1)

# Assuming 'Preferred_Genres' is a single string of concatenated genres
# We need to first split them into lists
user_profiles['Preferred_Genres'] = user_profiles['Preferred_Genres'].apply(lambda x: x.split(','))

# Using OneHotEncoder on lists requires a little hack by fitting on the full set of unique genre labels from games
all_genres = set(g for sublist in user_profiles['Preferred_Genres'] for g in sublist)
encoder.fit([[genre] for genre in all_genres])

# Transform the genres in user_profiles
user_profiles_genres_encoded = encoder.transform(user_profiles['Preferred_Genres'].explode().reset_index().drop('index', axis=1))
user_profiles_genres_encoded_df = pd.DataFrame(user_profiles_genres_encoded, columns=encoder.get_feature_names(['Preferred_Genres']))
user_profiles_encoded = user_profiles.drop('Preferred_Genres', axis=1).join(user_profiles_genres_encoded_df)


